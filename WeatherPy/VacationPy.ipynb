{
 "cells": [
  {
   "cell_type": "markdown",
   "metadata": {},
   "source": [
    "# VACATIONPY "
   ]
  },
  {
   "cell_type": "code",
   "execution_count": null,
   "metadata": {},
   "outputs": [],
   "source": [
    "import import matplotlib.pyplot as plt\n",
    "import pandas as pd\n",
    "import numpy as np\n",
    "import json \n",
    "import requests\n",
    "import csv \n",
    "import gmaps\n",
    "\n",
    "#import Google api key\n",
    "from config import gkey"
   ]
  },
  {
   "cell_type": "markdown",
   "metadata": {},
   "source": [
    "# Save the dataframe from WeatherPY to use for VacationPY\n",
    "   * Load the csv exported in Part I to a DataFrame"
   ]
  },
  {
   "cell_type": "code",
   "execution_count": null,
   "metadata": {},
   "outputs": [],
   "source": []
  },
  {
   "cell_type": "markdown",
   "metadata": {},
   "source": [
    "* Create a heat map that displays the humidity for every city from the part I of the homework.\n",
    "# # Humidity Heatmap \n",
    "    * from config gmaps\n",
    "    * Use the latitude and longtitude as locations and humidity as the weight\n",
    "    * Add Heatmap layer to map."
   ]
  },
  {
   "cell_type": "code",
   "execution_count": null,
   "metadata": {},
   "outputs": [],
   "source": []
  },
  {
   "cell_type": "markdown",
   "metadata": {},
   "source": [
    "# Create New DataFrame for weather crieteria \n",
    "  * Make sure to drop any rows that don't contain all three conditions. (Longtitude, Latitude, Max Temp(f), WindSpeed(mph), Cloudiness( %)\n",
    "  * A max temperature lower than 80 degrees but higher than 70.\n",
    "    #weather_df = weather_df (max_temp) <80 & weather_df [max temp ] > 70\n",
    "  * Wind speed less than 10 mph.\n",
    "    #weather_df = weather_df[wind speed] <10\n",
    "  * Zero cloudiness.\n",
    "    #no_cloud = weather_df[ weather [cloudiness (%)] == 0 "
   ]
  },
  {
   "cell_type": "code",
   "execution_count": null,
   "metadata": {},
   "outputs": [],
   "source": []
  },
  {
   "cell_type": "markdown",
   "metadata": {},
   "source": [
    "# Hotel Map\n",
    " * Store into variable named hotel_df.\n",
    " * Add a \"Hotel Name\" column to the DataFrame.\n",
    " * Set parameters to search for hotels with 5000 meters.\n",
    " * Hit the Google Places API for each city's coordinates.\n",
    " * Store the first Hotel result into the DataFrame.\n",
    " * Plot markers on top of the heatmap."
   ]
  },
  {
   "cell_type": "code",
   "execution_count": null,
   "metadata": {},
   "outputs": [],
   "source": []
  },
  {
   "cell_type": "code",
   "execution_count": null,
   "metadata": {},
   "outputs": [],
   "source": []
  },
  {
   "cell_type": "markdown",
   "metadata": {},
   "source": [
    "* Narrow down the DataFrame to find your ideal weather condition. For example:\n",
    "\n",
    "  * A max temperature lower than 80 degrees but higher than 70.\n",
    "    #weather_df = weather_df (max_temp) <80 & weather_df [max temp ] > 70\n",
    "  * Wind speed less than 10 mph.\n",
    "    weather_df = weather_df[wind speed] <10\n",
    "  * Zero cloudiness.\n",
    "    weather_\n",
    "  * Drop any rows that don't contain all three conditions. You want to be sure the weather is ideal.\n",
    "\n",
    "  * **Note:** Feel free to adjust to your specifications but be sure to limit the number of rows returned by your API requests to a reasonable number.\n",
    "\n",
    "* Using Google Places API to find the first hotel for each city located within 5000 meters of your coordinates.\n",
    "\n",
    "* Plot the hotels on top of the humidity heatmap with each pin containing the **Hotel Name**, **City**, and **Country**."
   ]
  }
 ],
 "metadata": {
  "kernelspec": {
   "display_name": "PythonData",
   "language": "python",
   "name": "pythondata"
  },
  "language_info": {
   "codemirror_mode": {
    "name": "ipython",
    "version": 3
   },
   "file_extension": ".py",
   "mimetype": "text/x-python",
   "name": "python",
   "nbconvert_exporter": "python",
   "pygments_lexer": "ipython3",
   "version": "3.6.10"
  }
 },
 "nbformat": 4,
 "nbformat_minor": 4
}
